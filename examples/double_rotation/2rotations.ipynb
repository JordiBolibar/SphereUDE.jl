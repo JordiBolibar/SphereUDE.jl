{
 "cells": [
  {
   "cell_type": "markdown",
   "metadata": {},
   "source": [
    "## Example of fir with two rotations"
   ]
  },
  {
   "cell_type": "code",
   "execution_count": 1,
   "metadata": {},
   "outputs": [
    {
     "name": "stderr",
     "output_type": "stream",
     "text": [
      "\u001b[32m\u001b[1m  Activating\u001b[22m\u001b[39m project at `~/.julia/dev/SphereFit`\n"
     ]
    }
   ],
   "source": [
    "using Pkg; Pkg.activate(\"../.\")\n",
    "using Revise \n",
    "\n",
    "using LinearAlgebra, Statistics, Distributions \n",
    "using OrdinaryDiffEq\n",
    "using SciMLSensitivity\n",
    "using Optimization, OptimizationOptimisers, OptimizationOptimJL\n",
    "\n",
    "using SphereFit"
   ]
  },
  {
   "cell_type": "code",
   "execution_count": 2,
   "metadata": {},
   "outputs": [
    {
     "data": {
      "text/plain": [
       "200"
      ]
     },
     "metadata": {},
     "output_type": "display_data"
    }
   ],
   "source": [
    "using Random\n",
    "rng = Random.default_rng()\n",
    "Random.seed!(rng, 000666)\n",
    "# Fisher concentration parameter on observations (small = more dispersion)\n",
    "κ = 200 "
   ]
  },
  {
   "cell_type": "markdown",
   "metadata": {},
   "source": [
    "Let's create a simple example consisting in two solid rotations around the globe with Fisher noise on top. "
   ]
  },
  {
   "cell_type": "code",
   "execution_count": 3,
   "metadata": {},
   "outputs": [
    {
     "data": {
      "text/plain": [
       "1.0e-7"
      ]
     },
     "metadata": {},
     "output_type": "display_data"
    }
   ],
   "source": [
    "# Total time simulation\n",
    "tspan = [0, 130.0]\n",
    "# Number of sample points\n",
    "N_samples = 50\n",
    "# Times where we sample points\n",
    "times_samples = sort(rand(sampler(Uniform(tspan[1], tspan[2])), N_samples))\n",
    "\n",
    "# Expected maximum angular deviation in one unit of time (degrees)\n",
    "Δω₀ = 1.0   \n",
    "# Angular velocity \n",
    "ω₀ = Δω₀ * π / 180.0\n",
    "# Change point\n",
    "τ₀ = 65.0\n",
    "# Angular momentum\n",
    "L0 = ω₀    .* [1.0, 0.0, 0.0]\n",
    "L1 = 0.5ω₀ .* [0.0, sqrt(2), sqrt(2)]\n",
    "\n",
    "# Solver tolerances \n",
    "reltol = 1e-7\n",
    "abstol = 1e-7"
   ]
  },
  {
   "cell_type": "code",
   "execution_count": 4,
   "metadata": {},
   "outputs": [
    {
     "data": {
      "text/plain": [
       "3×50 Matrix{Float64}:\n",
       " -0.0385817  -0.102203    0.0130063  …  -0.801308   -0.804544   -0.777151\n",
       "  0.0229773   0.0624114   0.134454       0.593017    0.591397    0.625861\n",
       " -0.998991   -0.992804   -0.990834      -0.0789676  -0.0543948   0.065833"
      ]
     },
     "metadata": {},
     "output_type": "display_data"
    }
   ],
   "source": [
    "function true_rotation!(du, u, p, t)\n",
    "    if t < τ₀\n",
    "        L = p[1]\n",
    "    else \n",
    "        L = p[2]\n",
    "    end\n",
    "    du .= cross(L, u)\n",
    "end\n",
    "\n",
    "prob = ODEProblem(true_rotation!, [0.0, 0.0, -1.0], tspan, [L0, L1])\n",
    "true_sol  = solve(prob, Tsit5(), reltol=reltol, abstol=abstol, saveat=times_samples)\n",
    "\n",
    "# Add Fisher noise to true solution \n",
    "X_noiseless = Array(true_sol)\n",
    "X_true = mapslices(x -> rand(sampler(VonMisesFisher(x/norm(x), κ)), 1), X_noiseless, dims=1)"
   ]
  },
  {
   "cell_type": "markdown",
   "metadata": {},
   "source": [
    "Let's make a plot of this using `PyCall` to call `cartopy` and `matplotlib`. "
   ]
  },
  {
   "cell_type": "code",
   "execution_count": 5,
   "metadata": {},
   "outputs": [
    {
     "data": {
      "text/plain": [
       "3×50 Matrix{Float64}:\n",
       " -0.0385817  -0.102203    0.0130063  …  -0.801308   -0.804544   -0.777151\n",
       "  0.0229773   0.0624114   0.134454       0.593017    0.591397    0.625861\n",
       " -0.998991   -0.992804   -0.990834      -0.0789676  -0.0543948   0.065833"
      ]
     },
     "metadata": {},
     "output_type": "display_data"
    }
   ],
   "source": [
    "X_true"
   ]
  },
  {
   "cell_type": "code",
   "execution_count": 6,
   "metadata": {},
   "outputs": [
    {
     "data": {
      "text/plain": [
       "2×50 Matrix{Float64}:\n",
       " 149.224   148.589    84.4747  104.938   …  143.496    143.681    141.155\n",
       " -87.4262  -83.1222  -82.2367  -78.8478      -4.52923   -3.11813    3.77468"
      ]
     },
     "metadata": {},
     "output_type": "display_data"
    }
   ],
   "source": [
    "X_true_sph = cart2sph(X_true, radians=false)"
   ]
  },
  {
   "cell_type": "markdown",
   "metadata": {},
   "source": [
    "## Training"
   ]
  },
  {
   "cell_type": "code",
   "execution_count": 32,
   "metadata": {},
   "outputs": [
    {
     "name": "stdout",
     "output_type": "stream",
     "text": [
      "Current loss after 50 iterations: 0.16101314731406519\n"
     ]
    },
    {
     "name": "stdout",
     "output_type": "stream",
     "text": [
      "Current loss after 100 iterations: 0.11037340614009217\n"
     ]
    },
    {
     "name": "stdout",
     "output_type": "stream",
     "text": [
      "Current loss after 150 iterations: 0.0672007616613746\n"
     ]
    },
    {
     "name": "stdout",
     "output_type": "stream",
     "text": [
      "Current loss after 200 iterations: 0.03152708372080601\n"
     ]
    },
    {
     "name": "stdout",
     "output_type": "stream",
     "text": [
      "Current loss after 250 iterations: 0.010739288203707937\n"
     ]
    },
    {
     "name": "stdout",
     "output_type": "stream",
     "text": [
      "Current loss after 300 iterations: 0.005644418949798711\n"
     ]
    },
    {
     "name": "stdout",
     "output_type": "stream",
     "text": [
      "Current loss after 350 iterations: 0.005083565929698203\n"
     ]
    },
    {
     "name": "stdout",
     "output_type": "stream",
     "text": [
      "Current loss after 400 iterations: 0.005015284713162176\n"
     ]
    },
    {
     "name": "stdout",
     "output_type": "stream",
     "text": [
      "Current loss after 450 iterations: 0.00497058269872371\n"
     ]
    },
    {
     "name": "stdout",
     "output_type": "stream",
     "text": [
      "Current loss after 500 iterations: 0.004906234394502047\n"
     ]
    },
    {
     "name": "stdout",
     "output_type": "stream",
     "text": [
      "Current loss after 550 iterations: 0.004776632831478111\n"
     ]
    },
    {
     "name": "stdout",
     "output_type": "stream",
     "text": [
      "Current loss after 600 iterations: 0.0042792889392969\n"
     ]
    },
    {
     "name": "stdout",
     "output_type": "stream",
     "text": [
      "Current loss after 650 iterations: 0.004141349801464287\n"
     ]
    },
    {
     "name": "stdout",
     "output_type": "stream",
     "text": [
      "Current loss after 700 iterations: 0.004110626173838344\n"
     ]
    },
    {
     "name": "stdout",
     "output_type": "stream",
     "text": [
      "Current loss after 750 iterations: 0.004087219223675899\n"
     ]
    },
    {
     "name": "stdout",
     "output_type": "stream",
     "text": [
      "Current loss after 800 iterations: 0.004066461747562576\n"
     ]
    },
    {
     "name": "stdout",
     "output_type": "stream",
     "text": [
      "Current loss after 850 iterations: 0.0040480743234733284\n"
     ]
    },
    {
     "name": "stdout",
     "output_type": "stream",
     "text": [
      "Current loss after 900 iterations: 0.004031816367129134\n"
     ]
    },
    {
     "name": "stdout",
     "output_type": "stream",
     "text": [
      "Current loss after 950 iterations: 0.004017436125286587\n"
     ]
    },
    {
     "name": "stdout",
     "output_type": "stream",
     "text": [
      "Current loss after 1000 iterations: 0.004004684244888116\n",
      "Training loss after 1001 iterations: 0.004004684244888116\n"
     ]
    },
    {
     "name": "stdout",
     "output_type": "stream",
     "text": [
      "Current loss after 1050 iterations: 0.0033236596189285426\n"
     ]
    },
    {
     "name": "stdout",
     "output_type": "stream",
     "text": [
      "Current loss after 1100 iterations: 0.003111357177414428\n"
     ]
    },
    {
     "name": "stdout",
     "output_type": "stream",
     "text": [
      "Current loss after 1150 iterations: 0.002991621613023731\n"
     ]
    },
    {
     "name": "stdout",
     "output_type": "stream",
     "text": [
      "Current loss after 1200 iterations: 0.002975056694828765\n"
     ]
    },
    {
     "name": "stdout",
     "output_type": "stream",
     "text": [
      "Current loss after 1250 iterations: 0.002966203059360758\n"
     ]
    },
    {
     "name": "stdout",
     "output_type": "stream",
     "text": [
      "Current loss after 1300 iterations: 0.0029608994616977255\n",
      "Final training loss after 1302 iterations: 0.0029608677531788394\n"
     ]
    },
    {
     "data": {
      "text/plain": [
       "((layer_1 = (weight = [-0.029283678130141755; -0.7846595845532214; … ; 0.4824681548469449; -0.7653773405771641;;], bias = [1.3877211281620812; -0.2292506085891694; … ; -0.21354364462799935; -0.2111699908354089;;]), layer_2 = (weight = [0.4331927448885181 0.19025281760115167 … -0.23214131965235882 -0.48444998249163995; -0.005934016578657395 0.21407031256851175 … -0.16415189329723437 0.40785256119032065; … ; 0.5906190183540482 0.13771128071783653 … 0.1933073587202226 0.2518645154746848; 0.5575251432951867 -0.3914652962047988 … 0.26225009777192854 -0.07533374208994519], bias = [-0.19391460134147748; -0.12147743910258456; … ; -0.03269148361741536; 0.04856695619410239;;]), layer_3 = (weight = [-0.2734986908908024 -0.16486663919902309 … -0.6780334755960238 -0.23977689898977597; -0.08437333020280792 -0.3810663954777153 … -0.32269412553855653 0.32425612578467106; … ; 0.5792528765442908 0.3311609600385446 … -0.3101348642938916 -0.1359125208377849; 0.5516218199477535 0.4562211234554291 … -0.11382203901757451 0.522489630361952], bias = [0.21296424082562201; 0.1672264062364877; … ; 0.0691191257516828; -0.18777511794031426;;]), layer_4 = (weight = [-0.5416233758672322 0.32868334994108683 … 0.40145760302514644 0.4772259124002258; 0.8542129597838627 0.7908029534290046 … 0.02153724798906298 -0.3442113676619216; -0.1186502978051856 0.5138394418457097 … -0.35094867165588345 -0.6847097433166417], bias = [-4.760430864427434e-5; 0.49354848904737925; 0.04859353727911643;;])), Chain(), (layer_1 = NamedTuple(), layer_2 = NamedTuple(), layer_3 = NamedTuple(), layer_4 = NamedTuple()))"
      ]
     },
     "metadata": {},
     "output_type": "display_data"
    }
   ],
   "source": [
    "data   = SphereData(times=times_samples, directions=X_true, kappas=nothing)\n",
    "params = SphereParameters(tmin=tspan[1], tmax=tspan[2], u0=[0.0, 0.0, -1.0], ωmax=2*ω₀, reltol=reltol, abstol=abstol)\n",
    "\n",
    "θ_trained, U, st = train_sphere(data, params, rng, nothing)"
   ]
  },
  {
   "cell_type": "markdown",
   "metadata": {},
   "source": [
    "### Python plots"
   ]
  },
  {
   "cell_type": "code",
   "execution_count": 31,
   "metadata": {},
   "outputs": [],
   "source": [
    "using PyPlot, PyCall\n",
    "\n",
    "mpl_colors = pyimport(\"matplotlib.colors\")\n",
    "mpl_colormap = pyimport(\"matplotlib.cm\")\n",
    "sns = pyimport(\"seaborn\")\n",
    "ccrs = pyimport(\"cartopy.crs\")\n",
    "feature = pyimport(\"cartopy.feature\")\n",
    "\n",
    "plt.figure(figsize=(10,10))\n",
    "ax = plt.axes(projection=ccrs.Orthographic(central_latitude=-20, central_longitude=150))\n",
    "\n",
    "# ax.coastlines()\n",
    "ax.gridlines()\n",
    "ax.set_global()\n",
    "\n",
    "cmap = mpl_colormap.get_cmap(\"viridis\")\n",
    "\n",
    "sns.scatterplot(ax=ax, x = X_true_sph[1,:], y=X_true_sph[2, :], \n",
    "                hue = times_samples, s=50,\n",
    "                palette=\"viridis\",\n",
    "                transform = ccrs.PlateCarree());\n",
    "\n",
    "plt.savefig(\"testing.pdf\", format=\"pdf\")\n",
    "# plt.show()"
   ]
  },
  {
   "cell_type": "code",
   "execution_count": 38,
   "metadata": {},
   "outputs": [
    {
     "data": {
      "text/plain": [
       "NamedTuple{(:layer_1, :layer_2, :layer_3, :layer_4), NTuple{4, NamedTuple{(), Tuple{}}}}"
      ]
     },
     "metadata": {},
     "output_type": "display_data"
    }
   ],
   "source": [
    "typeof(st)"
   ]
  },
  {
   "cell_type": "code",
   "execution_count": null,
   "metadata": {},
   "outputs": [],
   "source": []
  }
 ],
 "metadata": {
  "kernelspec": {
   "display_name": "Julia 1.9.4",
   "language": "julia",
   "name": "julia-1.9"
  },
  "language_info": {
   "file_extension": ".jl",
   "mimetype": "application/julia",
   "name": "julia",
   "version": "1.9.4"
  },
  "orig_nbformat": 4
 },
 "nbformat": 4,
 "nbformat_minor": 2
}
